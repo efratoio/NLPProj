{
 "cells": [
  {
   "cell_type": "markdown",
   "metadata": {},
   "source": [
    "Tag chats - 0 for reject, 1 for bought (not tagged yet)"
   ]
  },
  {
   "cell_type": "code",
   "execution_count": 17,
   "metadata": {
    "collapsed": false
   },
   "outputs": [
    {
     "name": "stdout",
     "output_type": "stream",
     "text": [
      "percentage of bookings:  0.8211678832116789\n"
     ]
    }
   ],
   "source": [
    "import os\n",
    "import json\n",
    "\n",
    "path = r\"C:\\Users\\user\\git\\NLPProj\\Frames-dataset\\chats\"\n",
    "file_cnt = 0\n",
    "book_cnt = 0\n",
    "\n",
    "for filename in os.listdir(path):\n",
    "    file_cnt += 1\n",
    "    chat_file = open(os.path.join(path, filename), encoding='utf-8')\n",
    "    chat = json.load(chat_file)\n",
    "    if 'turns' in chat:\n",
    "        for turn in chat['turns']:\n",
    "            if 'acts' in turn['labels']:\n",
    "                for arg in turn['labels']['acts']:\n",
    "                    for d in arg['args']:\n",
    "                        if d['key'] == 'action' and d['val'] == 'book':\n",
    "                            book_cnt += 1\n",
    "                            \n",
    "print(\"percentage of bookings: \", book_cnt / file_cnt)"
   ]
  }
 ],
 "metadata": {
  "kernelspec": {
   "display_name": "Python 3",
   "language": "python",
   "name": "python3"
  },
  "language_info": {
   "codemirror_mode": {
    "name": "ipython",
    "version": 3
   },
   "file_extension": ".py",
   "mimetype": "text/x-python",
   "name": "python",
   "nbconvert_exporter": "python",
   "pygments_lexer": "ipython3",
   "version": "3.4.4"
  }
 },
 "nbformat": 4,
 "nbformat_minor": 1
}
