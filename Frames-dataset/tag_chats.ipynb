{
 "cells": [
  {
   "cell_type": "markdown",
   "metadata": {},
   "source": [
    "Tag chats - 0 for reject, 1 for bought (not tagged yet)"
   ]
  },
  {
   "cell_type": "code",
   "execution_count": 7,
   "metadata": {
    "collapsed": false
   },
   "outputs": [
    {
     "name": "stdout",
     "output_type": "stream",
     "text": [
      "['_CHUNK_SIZE', '__class__', '__del__', '__delattr__', '__dict__', '__dir__', '__doc__', '__enter__', '__eq__', '__exit__', '__format__', '__ge__', '__getattribute__', '__getstate__', '__gt__', '__hash__', '__init__', '__iter__', '__le__', '__lt__', '__ne__', '__new__', '__next__', '__reduce__', '__reduce_ex__', '__repr__', '__setattr__', '__sizeof__', '__str__', '__subclasshook__', '_checkClosed', '_checkReadable', '_checkSeekable', '_checkWritable', '_finalizing', 'buffer', 'close', 'closed', 'detach', 'encoding', 'errors', 'fileno', 'flush', 'isatty', 'line_buffering', 'mode', 'name', 'newlines', 'read', 'readable', 'readline', 'readlines', 'seek', 'seekable', 'tell', 'truncate', 'writable', 'write', 'writelines']\n"
     ]
    }
   ],
   "source": [
    "import os\n",
    "import json\n",
    "\n",
    "path = r\"./chats\"\n",
    "labels_path = r\"./labels.txt\"\n",
    "with open(labels_path,\"w\") as f:\n",
    "    print(dir(f))\n",
    "\n",
    "    for filename in os.listdir(path):\n",
    "        \n",
    "        chat_file = open(os.path.join(path, filename), encoding='utf-8')\n",
    "        chat = json.load(chat_file)\n",
    "        book = False\n",
    "        if 'turns' in chat:\n",
    "            for turn in chat['turns']:\n",
    "                if 'acts' in turn['labels']:\n",
    "                    for arg in turn['labels']['acts']:\n",
    "                        for d in arg['args']:\n",
    "                            if d['key'] == 'action' and d['val'] == 'book':\n",
    "                                book = True\n",
    "        f.write(str(chat[\"id\"])+\",\"+str(book)+\"\\n\")\n"
   ]
  },
  {
   "cell_type": "code",
   "execution_count": null,
   "metadata": {
    "collapsed": true
   },
   "outputs": [],
   "source": []
  }
 ],
 "metadata": {
  "kernelspec": {
   "display_name": "Python 3",
   "language": "python",
   "name": "python3"
  },
  "language_info": {
   "codemirror_mode": {
    "name": "ipython",
    "version": 3
   },
   "file_extension": ".py",
   "mimetype": "text/x-python",
   "name": "python",
   "nbconvert_exporter": "python",
   "pygments_lexer": "ipython3",
   "version": "3.5.3"
  }
 },
 "nbformat": 4,
 "nbformat_minor": 1
}
