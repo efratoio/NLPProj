{
 "cells": [
  {
   "cell_type": "markdown",
   "metadata": {},
   "source": [
    "Simple word2vec model with 200 features for each utterance, not considering other features (speaker etc.)"
   ]
  },
  {
   "cell_type": "code",
   "execution_count": 21,
   "metadata": {},
   "outputs": [
    {
     "data": {
      "text/plain": [
       "{'amir': <gensim.models.word2vec.Vocab at 0x7ff1b1818fd0>,\n",
       " 'iris': <gensim.models.word2vec.Vocab at 0x7ff1b1818c50>,\n",
       " 'school': <gensim.models.word2vec.Vocab at 0x7ff1c3f80b70>,\n",
       " 'to': <gensim.models.word2vec.Vocab at 0x7ff1b1818b38>,\n",
       " 'went': <gensim.models.word2vec.Vocab at 0x7ff1c3f802b0>}"
      ]
     },
     "execution_count": 21,
     "metadata": {},
     "output_type": "execute_result"
    }
   ],
   "source": [
    "import json\n",
    "import gensim\n",
    "\n",
    "path = r\"C:\\Users\\user\\git\\NLPProj\\Frames-dataset\\chats\"\n",
    "sents = []\n",
    "for filename in os.listdir(path):\n",
    "    chat_file = open(os.path.join(path, filename), encoding='utf-8')\n",
    "    chat = json.load(chat_file)\n",
    "    if 'turns' in chat:\n",
    "        for turn in chat['turns']:\n",
    "            sents.append( turn['text'].split() )\n",
    "\n",
    "model = gensim.models.Word2Vec(sents, workers=10, size=200, min_count=1)\n",
    "model.vocab"
   ]
  },
  {
   "cell_type": "markdown",
   "metadata": {},
   "source": [
    "Define the RNN - TBD"
   ]
  },
  {
   "cell_type": "code",
   "execution_count": null,
   "metadata": {
    "collapsed": true
   },
   "outputs": [],
   "source": [
    "import keras\n",
    "\n",
    "keras.layers.recurrent.SimpleRNN(128, activation='tanh', use_bias=True, kernel_initializer='glorot_uniform', recurrent_initializer='orthogonal', bias_initializer='zeros', kernel_regularizer=None, recurrent_regularizer=None, bias_regularizer=None, activity_regularizer=None, \n",
    "                                 kernel_constraint=None, recurrent_constraint=None, bias_constraint=None, dropout=0.0, recurrent_dropout=0.0)"
   ]
  }
 ],
 "metadata": {
  "kernelspec": {
   "display_name": "Python 3",
   "language": "python",
   "name": "python3"
  },
  "language_info": {
   "codemirror_mode": {
    "name": "ipython",
    "version": 3
   },
   "file_extension": ".py",
   "mimetype": "text/x-python",
   "name": "python",
   "nbconvert_exporter": "python",
   "pygments_lexer": "ipython3",
   "version": "3.4.3"
  }
 },
 "nbformat": 4,
 "nbformat_minor": 2
}
