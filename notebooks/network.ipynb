{
 "cells": [
  {
   "cell_type": "markdown",
   "metadata": {},
   "source": [
    "Simple word2vec model with 200 features for each utterance, not considering other features (speaker etc.)"
   ]
  },
  {
   "cell_type": "code",
   "execution_count": 24,
   "metadata": {},
   "outputs": [
    {
     "data": {
      "text/plain": [
       "array([  5.75646639e-01,  -3.80846225e-02,   2.34422952e-01,\n",
       "        -2.67802775e-01,   5.67535758e-01,  -3.85576263e-02,\n",
       "        -8.73778295e-03,  -4.50366497e-01,   1.22531258e-01,\n",
       "         1.43486574e-01,  -5.63510180e-01,   2.19590776e-02,\n",
       "         7.64225543e-01,  -2.05299899e-01,   4.36017483e-01,\n",
       "         4.02673811e-01,  -2.08611131e-01,  -5.69055498e-01,\n",
       "        -4.59955186e-01,   4.63405132e-01,   1.60422876e-01,\n",
       "         3.66182625e-01,  -1.27454162e-01,   6.40466154e-01,\n",
       "        -2.00799722e-02,  -2.46176183e-01,   4.45402861e-01,\n",
       "        -5.46220720e-01,   2.59687185e-01,  -2.24072918e-01,\n",
       "        -4.14546639e-01,   5.73256433e-01,   4.39904541e-01,\n",
       "        -4.51301008e-01,  -1.13700472e-01,  -4.77244258e-01,\n",
       "         6.18301630e-01,   7.62731194e-01,   2.25809172e-01,\n",
       "        -2.59460121e-01,   2.94120181e-02,  -9.05210003e-02,\n",
       "        -5.80174029e-01,   2.24938393e-01,  -1.76091716e-01,\n",
       "        -5.31009436e-01,  -3.37345958e-01,   1.12489724e+00,\n",
       "         1.68282211e-01,   3.47143739e-01,  -7.20713377e-01,\n",
       "         6.42706007e-02,  -5.23242831e-01,  -3.91399264e-01,\n",
       "        -1.76711902e-02,  -4.85745162e-01,  -1.10368240e+00,\n",
       "        -3.35836202e-01,   4.73155499e-01,  -4.04922925e-02,\n",
       "         1.11992311e+00,  -1.93010002e-01,   3.33827436e-01,\n",
       "         5.01162827e-01,   5.77241302e-01,  -2.46621117e-01,\n",
       "        -1.20605254e+00,   2.67298855e-02,  -2.62857378e-01,\n",
       "        -8.16299379e-01,   2.34902486e-01,   9.19051647e-01,\n",
       "         3.23105484e-01,   7.88830519e-02,   6.29093707e-01,\n",
       "         3.33899945e-01,  -4.06100810e-01,  -3.77744675e-01,\n",
       "        -1.40883788e-01,  -2.45892599e-01,  -1.15396783e-01,\n",
       "        -5.75514417e-03,  -3.97183478e-01,  -6.11393332e-01,\n",
       "        -5.52419662e-01,   2.64674544e-01,  -2.15757608e-01,\n",
       "        -4.78655219e-01,  -6.37144029e-01,   3.06286633e-01,\n",
       "        -2.97083080e-01,  -7.78999180e-04,   3.24703217e-01,\n",
       "         3.17048766e-02,   4.96309310e-01,  -2.68644392e-01,\n",
       "        -2.67926633e-01,   1.99928507e-01,   4.09296036e-01,\n",
       "         1.24310243e+00,   6.50915056e-02,   5.69831133e-02,\n",
       "         1.17716205e+00,  -4.48540486e-02,  -6.45760894e-01,\n",
       "        -4.04391825e-01,   3.61389518e-01,   3.35687608e-01,\n",
       "        -2.74714708e-01,  -2.06020698e-01,  -7.31407762e-01,\n",
       "         2.59991556e-01,   4.02185857e-01,   2.05500513e-01,\n",
       "        -1.69943660e-01,   6.11583054e-01,  -3.72168690e-01,\n",
       "         2.64253139e-01,   6.68915093e-01,  -3.72916788e-01,\n",
       "        -3.01432788e-01,  -1.36949584e-01,   6.50805086e-02,\n",
       "         3.10369253e-01,  -3.10103893e-01,   2.36048996e-01,\n",
       "        -3.10974956e-01,  -1.67234018e-01,  -2.32037127e-01,\n",
       "         9.92423221e-02,  -4.15233195e-01,   6.98760211e-01,\n",
       "         6.75523341e-01,  -6.56935349e-02,   1.61838353e-01,\n",
       "         7.26983309e-01,   2.10035220e-01,  -1.34769604e-01,\n",
       "         5.38924932e-02,  -1.75571412e-01,   5.26770473e-01,\n",
       "         2.04025954e-01,  -5.06756119e-02,   3.11095148e-01,\n",
       "         3.00703734e-01,  -3.79070163e-01,  -4.81418520e-01,\n",
       "         2.34177932e-01,   2.83259779e-01,   1.32669553e-01,\n",
       "         1.09635457e-01,   1.48567498e-01,   1.01515484e+00,\n",
       "        -1.33686155e-01,  -3.58277112e-01,   1.07404470e-01,\n",
       "         4.20598388e-02,   6.68148100e-01,  -3.77398789e-01,\n",
       "        -1.17629242e+00,  -2.56327778e-01,  -1.23787925e-01,\n",
       "         3.01193565e-01,  -3.28768283e-01,   4.56562072e-01,\n",
       "         4.87819582e-01,  -6.41475379e-01,   1.30674481e-01,\n",
       "        -7.17863977e-01,  -3.62913251e-01,  -1.02949739e-01,\n",
       "         1.01193261e+00,   5.06110311e-01,  -1.60237476e-02,\n",
       "        -2.75285318e-02,   6.10501111e-01,   3.04032981e-01,\n",
       "        -3.02206814e-01,  -3.90686735e-04,   1.41533827e-02,\n",
       "        -5.94354212e-01,  -3.39052290e-01,   6.72142267e-01,\n",
       "        -3.05036809e-02,  -9.20313239e-01,  -1.52915373e-01,\n",
       "         3.69003624e-01,  -9.72959936e-01,   2.47101918e-01,\n",
       "         8.57262909e-02,   1.12857863e-01,  -4.29685116e-01,\n",
       "         2.78031477e-03,  -1.11371525e-01,   1.80177540e-02,\n",
       "         6.17769361e-01,  -6.67289078e-01,  -4.85176235e-01,\n",
       "         4.17087793e-01,  -2.08790898e-01], dtype=float32)"
      ]
     },
     "execution_count": 24,
     "metadata": {},
     "output_type": "execute_result"
    }
   ],
   "source": [
    "import os\n",
    "import json\n",
    "import gensim\n",
    "\n",
    "# path = r\"C:\\Users\\user\\git\\NLPProj\\Frames-dataset\\chats\"\n",
    "path = r\"/home/amirgilad/Documents/git/NLPProj/Frames-dataset/chats\"\n",
    "sents = []\n",
    "for filename in os.listdir(path):\n",
    "    chat_file = open(os.path.join(path, filename), encoding='utf-8')\n",
    "    chat = json.load(chat_file)\n",
    "    if 'turns' in chat:\n",
    "        for turn in chat['turns']:\n",
    "            sents.append( turn['text'].split() )\n",
    "\n",
    "w2v = gensim.models.Word2Vec(sents, workers=10, size=200, min_count=1)\n",
    "w2v.vocab"
   ]
  },
  {
   "cell_type": "markdown",
   "metadata": {},
   "source": [
    "Define the RNN - TBD"
   ]
  },
  {
   "cell_type": "code",
   "execution_count": null,
   "metadata": {
    "collapsed": true
   },
   "outputs": [],
   "source": [
    "import keras\n",
    "import numpy as np\n",
    "\n",
    "x_train = np.array([w2v[s] for s in sents])\n",
    "\n",
    "rnn = keras.layers.recurrent.SimpleRNN(128, activation='tanh', use_bias=True, kernel_initializer='glorot_uniform', recurrent_initializer='orthogonal', bias_initializer='zeros', kernel_regularizer=None, recurrent_regularizer=None, bias_regularizer=None, activity_regularizer=None, \n",
    "                                 kernel_constraint=None, recurrent_constraint=None, bias_constraint=None, dropout=0.0, recurrent_dropout=0.0)\n",
    "\n",
    "# rnn.fit(self, x_train, y, batch_size=32, epochs=10, verbose=1, callbacks=None, validation_split=0.0, validation_data=None, shuffle=True, class_weight=None, sample_weight=None, initial_epoch=0)"
   ]
  }
 ],
 "metadata": {
  "kernelspec": {
   "display_name": "Python 3",
   "language": "python",
   "name": "python3"
  },
  "language_info": {
   "codemirror_mode": {
    "name": "ipython",
    "version": 3
   },
   "file_extension": ".py",
   "mimetype": "text/x-python",
   "name": "python",
   "nbconvert_exporter": "python",
   "pygments_lexer": "ipython3",
   "version": "3.4.3"
  }
 },
 "nbformat": 4,
 "nbformat_minor": 2
}
