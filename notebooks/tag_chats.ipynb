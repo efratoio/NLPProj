{
 "cells": [
  {
   "cell_type": "markdown",
   "metadata": {},
   "source": [
    "Tag chats - 0 for reject, 1 for bought (not tagged yet)"
   ]
  },
  {
   "cell_type": "code",
   "execution_count": 1,
   "metadata": {
    "collapsed": false
   },
   "outputs": [
    {
     "name": "stdout",
     "output_type": "stream",
     "text": [
      "number of chats:  1370 number of bookings:  1125\n",
      "percentage of bookings:  0.8211678832116789\n"
     ]
    }
   ],
   "source": [
    "import os\n",
    "import json\n",
    "\n",
    "path = r\"C:\\Users\\user\\git\\NLPProj\\Frames-dataset\\chats\"\n",
    "file_cnt = 0\n",
    "book_cnt = 0\n",
    "\n",
    "for filename in os.listdir(path):\n",
    "    file_cnt += 1\n",
    "    chat_file = open(os.path.join(path, filename), encoding='utf-8')\n",
    "    chat = json.load(chat_file)\n",
    "    if 'turns' in chat:\n",
    "        for turn in chat['turns']:\n",
    "            if 'acts' in turn['labels']:\n",
    "                for arg in turn['labels']['acts']:\n",
    "                    for d in arg['args']:\n",
    "                        if d['key'] == 'action' and d['val'] == 'book':\n",
    "                            book_cnt += 1\n",
    "                            \n",
    "print(\"number of chats: \", file_cnt, \"number of bookings: \", book_cnt)\n",
    "print(\"percentage of bookings: \", book_cnt / file_cnt)"
   ]
  },
  {
   "cell_type": "markdown",
   "metadata": {},
   "source": [
    "Print a sample chat"
   ]
  },
  {
   "cell_type": "code",
   "execution_count": 10,
   "metadata": {
    "collapsed": false
   },
   "outputs": [
    {
     "name": "stdout",
     "output_type": "stream",
     "text": [
      " user: Hi. I need to book a vacation to Long Beach between August 25 and September 3. Departure is from Paris\n",
      " wizard: Would you like to depart Paris on September 6th?\n",
      " user: Preferably by the 3rd. Is there anything available?\n",
      " wizard: Sorry, looks like there is nothing available from Paris to Long Beach on September 3rd.\n",
      " user: I'm not quite sure I understand, is there anything available leaving Long Beach to go to Paris between August 25 and September 3rd?\n",
      " wizard: Would you like to depart Paris on September 6th?\n",
      " user: No. I would like to leave Long Beach around the 25th of August to go to Paris for some reason. What is so confusing about that!?\n",
      " wizard: You can leave Long Beach, USA and go to Paris, France on Tuesday, August 30th. Will I book this?\n",
      " user: Finally! No, don't book yet, I would like to know more about the hotel. Is there free breakfast?\n",
      " wizard: There is free wifi.\n",
      " user: Look buddy, is there free breakfast or not? Tell me, am I gonna get eggs, toast, cereal, etc? You know? The good stuff?\n",
      " wizard: There is free wifi at the hotel. \n",
      " user: What is the price of this toastless package?\n",
      " wizard: This package costs 2191.55USD.\n",
      " user: Is this the cheapest option?\n",
      " wizard: Yes, this is the cheapest option from Long Beach to Paris.\n",
      " user: And the hotel has how many stars?\n",
      " wizard: Muse Hotel has 2.0 stars.\n",
      " user: Ok I will book this one.\n",
      " wizard: Great. You will leave Paris on September 7th.\n",
      " user: What do you mean?\n",
      " wizard: You will depart from Paris at 3:00 am on Wednesday, September 7th.\n",
      " user: I will not book this trip. Goodbye.\n",
      " wizard: Thank you! Goodbye! \n",
      "\n"
     ]
    }
   ],
   "source": [
    "chat_txt = \"\"\n",
    "\n",
    "sample_chat = os.listdir(path)[0]\n",
    "chat_file = open(os.path.join(path, sample_chat), encoding='utf-8')\n",
    "chat = json.load(chat_file)\n",
    "if 'turns' in chat:\n",
    "        for turn in chat['turns']:\n",
    "            chat_txt += \" \" + turn['author'] + \": \" + turn['text'] + \"\\n\"\n",
    "print (chat_txt)"
   ]
  }
 ],
 "metadata": {
  "kernelspec": {
   "display_name": "Python 3",
   "language": "python",
   "name": "python3"
  },
  "language_info": {
   "codemirror_mode": {
    "name": "ipython",
    "version": 3
   },
   "file_extension": ".py",
   "mimetype": "text/x-python",
   "name": "python",
   "nbconvert_exporter": "python",
   "pygments_lexer": "ipython3",
   "version": "3.4.4"
  }
 },
 "nbformat": 4,
 "nbformat_minor": 1
}
