{
 "cells": [
  {
   "cell_type": "markdown",
   "metadata": {},
   "source": [
    "Tagging needs to be improved"
   ]
  },
  {
   "cell_type": "code",
   "execution_count": 1,
   "metadata": {
    "collapsed": false
   },
   "outputs": [
    {
     "name": "stdout",
     "output_type": "stream",
     "text": [
      "number of chats:  128 number of task success:  121\n",
      "percentage of success:  0.9453125\n",
      "successful trans:  ['q1ec1.txt', 'q1ec2.txt', 'q1ec3.txt', 'q1ec4.txt', 'q1ec5.txt', 'q1ec7.txt', 'q1ec8.txt', 'q1nc1.txt', 'q1nc2.txt', 'q1nc3.txt', 'q1nc4.txt', 'q1nc5.txt', 'q1nc6.txt', 'q1nc7.txt', 'q1nc8.txt', 'q2ec1.txt', 'q2ec2.txt', 'q2ec3.txt', 'q2ec4.txt', 'q2ec5.txt', 'q2ec6.txt', 'q2ec7.txt', 'q2ec8.txt', 'q2nc2.txt', 'q2nc3.txt', 'q2nc5.txt', 'q2nc6.txt', 'q2nc7.txt', 'q2nc8.txt', 'q3ec1.txt', 'q3ec2.txt', 'q3ec3.txt', 'q3ec4.txt', 'q3ec5.txt', 'q3ec6.txt', 'q3ec8.txt', 'q3nc1.txt', 'q3nc2.txt', 'q3nc3.txt', 'q3nc4.txt', 'q3nc5.txt', 'q3nc6.txt', 'q3nc7.txt', 'q3nc8.txt', 'q4ec1.txt', 'q4ec2.txt', 'q4ec3.txt', 'q4ec4.txt', 'q4ec5.txt', 'q4ec6.txt', 'q4ec7.txt', 'q4ec8.txt', 'q4nc1.txt', 'q4nc2.txt', 'q4nc3.txt', 'q4nc4.txt', 'q4nc5.txt', 'q4nc6.txt', 'q4nc7.txt', 'q4nc8.txt', 'q5ec1.txt', 'q5ec2.txt', 'q5ec3.txt', 'q5ec4.txt', 'q5ec5.txt', 'q5ec7.txt', 'q5ec8.txt', 'q5nc1.txt', 'q5nc2.txt', 'q5nc3.txt', 'q5nc5.txt', 'q5nc6.txt', 'q5nc7.txt', 'q5nc8.txt', 'q6ec1.txt', 'q6ec2.txt', 'q6ec3.txt', 'q6ec4.txt', 'q6ec6.txt', 'q6ec7.txt', 'q6ec8.txt', 'q6nc1.txt', 'q6nc2.txt', 'q6nc3.txt', 'q6nc4.txt', 'q6nc5.txt', 'q6nc6.txt', 'q6nc7.txt', 'q6nc8.txt', 'q7ec1.txt', 'q7ec2.txt', 'q7ec3.txt', 'q7ec4.txt', 'q7ec5.txt', 'q7ec6.txt', 'q7ec7.txt', 'q7ec8.txt', 'q7nc1.txt', 'q7nc2.txt', 'q7nc3.txt', 'q7nc4.txt', 'q7nc5.txt', 'q7nc6.txt', 'q7nc7.txt', 'q7nc8.txt', 'q8ec1.txt', 'q8ec2.txt', 'q8ec3.txt', 'q8ec4.txt', 'q8ec5.txt', 'q8ec6.txt', 'q8ec7.txt', 'q8ec8.txt', 'q8nc1.txt', 'q8nc2.txt', 'q8nc3.txt', 'q8nc4.txt', 'q8nc5.txt', 'q8nc6.txt', 'q8nc7.txt', 'q8nc8.txt']\n"
     ]
    },
    {
     "ename": "ImportError",
     "evalue": "No module named 'tensorflow'",
     "output_type": "error",
     "traceback": [
      "\u001b[0;31m---------------------------------------------------------------------------\u001b[0m",
      "\u001b[0;31mImportError\u001b[0m                               Traceback (most recent call last)",
      "\u001b[0;32m<ipython-input-1-9483ca385dfa>\u001b[0m in \u001b[0;36m<module>\u001b[0;34m()\u001b[0m\n\u001b[1;32m     18\u001b[0m \u001b[0mprint\u001b[0m\u001b[1;33m(\u001b[0m\u001b[1;34m\"successful trans: \"\u001b[0m\u001b[1;33m,\u001b[0m \u001b[0msuccess_lst\u001b[0m\u001b[1;33m)\u001b[0m\u001b[1;33m\u001b[0m\u001b[0m\n\u001b[1;32m     19\u001b[0m \u001b[1;33m\u001b[0m\u001b[0m\n\u001b[0;32m---> 20\u001b[0;31m \u001b[1;32mimport\u001b[0m \u001b[0mtensorflow\u001b[0m\u001b[1;33m\u001b[0m\u001b[0m\n\u001b[0m",
      "\u001b[0;31mImportError\u001b[0m: No module named 'tensorflow'"
     ]
    }
   ],
   "source": [
    "import os\n",
    "\n",
    "success_set = {'done', 'finish'}\n",
    "path = r\"C:\\Users\\user\\git\\NLPProj\\Transcripts\"\n",
    "success_cnt = 0\n",
    "file_cnt = 0\n",
    "success_lst = []\n",
    "for filename in os.listdir(path):\n",
    "    file_cnt += 1\n",
    "    trans_file = open(os.path.join(path, filename), encoding='utf-8')\n",
    "    trans = trans_file.read()\n",
    "    if any(word in trans for word in success_set):\n",
    "        success_cnt += 1\n",
    "        success_lst.append(filename)\n",
    "\n",
    "print(\"number of chats: \", file_cnt, \"number of task success: \", success_cnt)\n",
    "print(\"percentage of success: \", success_cnt / file_cnt)\n",
    "print(\"successful trans: \", success_lst)"
   ]
  }
 ],
 "metadata": {
  "kernelspec": {
   "display_name": "Python 3",
   "language": "python",
   "name": "python3"
  },
  "language_info": {
   "codemirror_mode": {
    "name": "ipython",
    "version": 3
   },
   "file_extension": ".py",
   "mimetype": "text/x-python",
   "name": "python",
   "nbconvert_exporter": "python",
   "pygments_lexer": "ipython3",
   "version": "3.4.4"
  }
 },
 "nbformat": 4,
 "nbformat_minor": 1
}
